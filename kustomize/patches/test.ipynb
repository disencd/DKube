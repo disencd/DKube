{
 "cells": [
  {
   "cell_type": "code",
   "execution_count": null,
   "id": "054e29b3",
   "metadata": {
    "vscode": {
     "languageId": "plaintext"
    }
   },
   "outputs": [],
   "source": [
    "resources:\n",
    "  - mongo-depl.yaml\n",
    "  - nginx-depl.yaml\n",
    "  - mongo-service.yaml\n",
    "\n",
    "patches:\n",
    "  - target:\n",
    "      kind: Deployment\n",
    "      name: nginx-deployment\n",
    "    patch: |-\n",
    "      - op: replace\n",
    "        path: /spec/replicas\n",
    "        value: 3\n",
    "\n",
    "  - target:\n",
    "      kind: Deployment\n",
    "      name: mongo-deployment\n",
    "    path: mongo-label-patch.yaml\n",
    "\n",
    "  - target:\n",
    "      kind: Service\n",
    "      name: mongo-cluster-ip-service\n",
    "    patch: |-\n",
    "      - op: replace\n",
    "        path: /spec/ports/0/port\n",
    "        value: 30000\n",
    "\n",
    "      - op: replace\n",
    "        path: /spec/ports/0/targetPort\n",
    "        value: 30000\n"
   ]
  }
 ],
 "metadata": {
  "language_info": {
   "name": "python"
  }
 },
 "nbformat": 4,
 "nbformat_minor": 5
}
