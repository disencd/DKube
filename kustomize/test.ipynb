{
 "cells": [
  {
   "cell_type": "markdown",
   "id": "253312d0",
   "metadata": {},
   "source": [
    "Let's create a single kustomization.yaml file in the root of the k8s directory and import all resources defined for db, message-broker, nginx into it.\n",
    "\n",
    "\n",
    "\n",
    "Please ensure to apply the config after creating kustomization.yaml file."
   ]
  },
  {
   "cell_type": "code",
   "execution_count": null,
   "id": "b6111c62",
   "metadata": {
    "vscode": {
     "languageId": "plaintext"
    }
   },
   "outputs": [],
   "source": [
    "apiVersion: kustomize.config.k8s.io/v1beta1\n",
    "kind: Kustomization\n",
    "\n",
    "# kubernetes resources to be managed by kustomize\n",
    "resources:\n",
    "  - db/db-config.yaml\n",
    "  - db/db-depl.yaml\n",
    "  - db/db-service.yaml\n",
    "  - message-broker/rabbitmq-config.yaml\n",
    "  - message-broker/rabbitmq-depl.yaml\n",
    "  - message-broker/rabbitmq-service.yaml\n",
    "  - nginx/nginx-depl.yaml\n",
    "  - nginx/nginx-service.yaml"
   ]
  },
  {
   "cell_type": "code",
   "execution_count": null,
   "id": "1926374a",
   "metadata": {
    "vscode": {
     "languageId": "plaintext"
    }
   },
   "outputs": [],
   "source": [
    "controlplane ~/code/k8s ✖ kubectl apply -k .\n",
    "configmap/db-credentials created\n",
    "configmap/redis-credentials created\n",
    "service/db-service created\n",
    "service/nginx-service created\n",
    "service/rabbit-cluster-ip-service created\n",
    "deployment.apps/db-deployment created\n",
    "deployment.apps/nginx-deployment created\n",
    "deployment.apps/rabbitmq-deployment created"
   ]
  },
  {
   "cell_type": "code",
   "execution_count": null,
   "id": "1bee10d9",
   "metadata": {
    "vscode": {
     "languageId": "plaintext"
    }
   },
   "outputs": [],
   "source": [
    "Let's create a kustomization.yaml file in each of the subdirectories and import only the resources within that directory.\n",
    "Please ensure to specify those directories within the root kustomization.yaml file.\n",
    "\n",
    "NOTE: Don't forget to deploy the resources."
   ]
  },
  {
   "cell_type": "code",
   "execution_count": null,
   "id": "81d56529",
   "metadata": {
    "vscode": {
     "languageId": "plaintext"
    }
   },
   "outputs": [],
   "source": [
    "apiVersion: kustomize.config.k8s.io/v1beta1\n",
    "kind: Kustomization\n",
    "\n",
    "# kubernetes resources to be managed by kustomize\n",
    "resources:\n",
    "  - db/\n",
    "  - message-broker/\n",
    "  - nginx/\n",
    "\n",
    "apiVersion: kustomize.config.k8s.io/v1beta1\n",
    "kind: Kustomization\n",
    "\n",
    "# kubernetes resources to be managed by kustomize\n",
    "resources:\n",
    "  - db-config.yaml\n",
    "  - db-depl.yaml\n",
    "  - db-service.yaml\n",
    "\n",
    "\n",
    "apiVersion: kustomize.config.k8s.io/v1beta1\n",
    "kind: Kustomization\n",
    "\n",
    "# kubernetes resources to be managed by kustomize\n",
    "resources:\n",
    "  - rabbitmq-config.yaml\n",
    "  - rabbitmq-depl.yaml\n",
    "  - rabbitmq-service.yaml\n",
    "\n",
    "\n",
    "\n",
    "apiVersion: kustomize.config.k8s.io/v1beta1\n",
    "kind: Kustomization\n",
    "\n",
    "# kubernetes resources to be managed by kustomize\n",
    "resources:\n",
    "  - nginx-depl.yaml\n",
    "  - nginx-service.yaml"
   ]
  }
 ],
 "metadata": {
  "language_info": {
   "name": "python"
  }
 },
 "nbformat": 4,
 "nbformat_minor": 5
}
