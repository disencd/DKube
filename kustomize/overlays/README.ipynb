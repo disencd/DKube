{
 "cells": [
  {
   "cell_type": "code",
   "execution_count": null,
   "id": "2dbb3d11",
   "metadata": {
    "vscode": {
     "languageId": "plaintext"
    }
   },
   "outputs": [],
   "source": [
    "JsonUpdate the api image in the api-deployment to use caddy docker image in the QA environment.\n",
    "\n",
    "Perform this using an inline JSON6902 patch\n",
    "\n",
    "Note: Please ensure to apply the updated config for QA environment before validation."
   ]
  },
  {
   "cell_type": "code",
   "execution_count": null,
   "id": "cfdbe200",
   "metadata": {
    "vscode": {
     "languageId": "plaintext"
    }
   },
   "outputs": [],
   "source": [
    "bases:\n",
    "  - ../../base\n",
    "commonLabels:\n",
    "  environment: QA\n",
    "  \n",
    "patches:\n",
    "  - target:\n",
    "      kind: Deployment\n",
    "      name: api-deployment\n",
    "    patch: |-\n",
    "      - op: replace\n",
    "        path: /spec/template/spec/containers/0/image\n",
    "        value: vaddy\n"
   ]
  },
  {
   "cell_type": "code",
   "execution_count": null,
   "id": "35bd0e76",
   "metadata": {
    "vscode": {
     "languageId": "plaintext"
    }
   },
   "outputs": [],
   "source": [
    "apiVersion: apps/v1\n",
    "kind: Deployment\n",
    "metadata:\n",
    "  name: mysql-deployment\n",
    "spec:\n",
    "  replicas: 1\n",
    "  selector:\n",
    "    matchLabels:\n",
    "      component: mysql\n",
    "  template:\n",
    "    metadata:\n",
    "      labels:\n",
    "        component: mysql\n",
    "    spec:\n",
    "      containers:\n",
    "        - name: mysql\n",
    "          image: mysql\n",
    "          env:\n",
    "            - name: MYSQL_ROOT_PASSWORD\n",
    "              value: mypassword"
   ]
  }
 ],
 "metadata": {
  "language_info": {
   "name": "python"
  }
 },
 "nbformat": 4,
 "nbformat_minor": 5
}
