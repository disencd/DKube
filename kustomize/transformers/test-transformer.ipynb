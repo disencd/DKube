{
 "cells": [
  {
   "cell_type": "markdown",
   "id": "bc5b0e72",
   "metadata": {},
   "source": [
    "apiVersion: kustomize.config.k8s.io/v1beta1\n",
    "kind: Kustomization\n",
    "\n",
    "resources:\n",
    "  - db/\n",
    "  - monitoring/\n",
    "  - nginx/\n",
    "\n",
    "commonLabels:\n",
    "  sandbox: dev\n",
    "\n",
    "commonAnnotations:\n",
    "  owner: bob@gmail.com"
   ]
  },
  {
   "cell_type": "code",
   "execution_count": null,
   "id": "c29894fc",
   "metadata": {
    "vscode": {
     "languageId": "plaintext"
    }
   },
   "outputs": [],
   "source": [
    "controlplane ~/code/k8s ✖ kubectl apply -k .\n",
    "# Warning: 'commonLabels' is deprecated. Please use 'labels' instead. Run 'kustomize edit fix' to update your Kustomization automatically.\n",
    "configmap/data-db-credentials unchanged\n",
    "service/data-mongo-service unchanged\n",
    "service/data-postgres-service unchanged\n",
    "service/grafana-service created\n",
    "service/nginx-service unchanged\n",
    "deployment.apps/data-mongo-deployment unchanged\n",
    "deployment.apps/data-postgres-deployment unchanged\n",
    "deployment.apps/grafana-deployment created\n",
    "deployment.apps/nginx-deployment unchanged\n"
   ]
  },
  {
   "cell_type": "markdown",
   "id": "dfa1dc00",
   "metadata": {},
   "source": [
    "Transform all postgres images in the project to mysql.\n",
    "\n",
    "\n",
    "\n",
    "apiVersion: kustomize.config.k8s.io/v1beta1\n",
    "kind: Kustomization\n",
    "\n",
    "resources:\n",
    "  - db-depl.yaml\n",
    "  - db-service.yaml\n",
    "\n",
    "\n",
    "images:\n",
    "  - name: postgres\n",
    "    newName: mysql"
   ]
  }
 ],
 "metadata": {
  "language_info": {
   "name": "python"
  }
 },
 "nbformat": 4,
 "nbformat_minor": 5
}
