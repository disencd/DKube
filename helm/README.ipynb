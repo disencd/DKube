{
 "cells": [
  {
   "cell_type": "code",
   "execution_count": 2,
   "id": "6e98c1de",
   "metadata": {},
   "outputs": [
    {
     "name": "stdout",
     "output_type": "stream",
     "text": [
      "NAME          \tNAMESPACE\tREVISION\tUPDATED                               \tSTATUS\tCHART                  \tAPP VERSION\n",
      "my-firefly-iii\tdefault  \t1       \t2025-07-09 22:06:56.28297429 -0700 PDT\tfailed\tfirefly-iii-stack-0.8.8\t           \n"
     ]
    }
   ],
   "source": [
    "!helm list"
   ]
  },
  {
   "cell_type": "code",
   "execution_count": 3,
   "id": "7ca1040f",
   "metadata": {},
   "outputs": [
    {
     "name": "stdout",
     "output_type": "stream",
     "text": [
      "URL                                               \tCHART VERSION\tAPP VERSION        \tDESCRIPTION                                       \n",
      "https://artifacthub.io/packages/helm/wordpress-...\t1.0.2        \t1.0.0              \tA Helm chart for deploying Wordpress+Mariadb st...\n",
      "https://artifacthub.io/packages/helm/bizlinked/...\t25.0.5       \t6.8.2              \tWordPress is the world's most popular blogging ...\n",
      "https://artifacthub.io/packages/helm/kube-wordp...\t0.1.0        \t1.1                \tthis is my wordpress package                      \n",
      "https://artifacthub.io/packages/helm/bitnami/wo...\t25.0.5       \t6.8.2              \tWordPress is the world's most popular blogging ...\n",
      "https://artifacthub.io/packages/helm/bitnami-ak...\t15.2.13      \t6.1.0              \tWordPress is the world's most popular blogging ...\n",
      "https://artifacthub.io/packages/helm/shubham-wo...\t0.1.0        \t1.16.0             \tA Helm chart for Kubernetes                       \n",
      "https://artifacthub.io/packages/helm/groundhog2...\t0.14.0       \t6.8.0-apache       \tA Helm chart for Wordpress on Kubernetes          \n",
      "https://artifacthub.io/packages/helm/sikalabs/w...\t0.2.0        \t                   \tSimple Wordpress                                  \n",
      "https://artifacthub.io/packages/helm/devops/wor...\t0.12.0       \t1.16.0             \tWordpress helm chart                              \n",
      "https://artifacthub.io/packages/helm/camptocamp...\t0.6.10       \t4.8.1              \tWeb publishing platform for building blogs and ...\n",
      "https://artifacthub.io/packages/helm/skywordpre...\t0.1.0        \t1.16.0             \tA Helm chart for WordPress                        \n",
      "https://artifacthub.io/packages/helm/sikademo/w...\t2020.11.18   \t                   \tExample Wordpress Chart (with MySQL)              \n",
      "https://artifacthub.io/packages/helm/schichtel/...\t0.9.3        \t6.8.1              \tA Helm chart for WordPress                        \n",
      "https://artifacthub.io/packages/helm/riftbit/wo...\t12.1.16      \t5.8.1              \tWeb publishing platform for building blogs and ...\n",
      "https://artifacthub.io/packages/helm/homeenterp...\t0.5.0        \t5.9.3-php8.1-apache\tBlog server                                       \n",
      "https://artifacthub.io/packages/helm/mcouliba/w...\t0.1.0        \t1.16.0             \tA Helm chart for Kubernetes                       \n",
      "https://artifacthub.io/packages/helm/wordpress-...\t0.1.5        \t1.0.0              \tA Helm chart for WordPress with MySQL, Varnish,...\n",
      "https://artifacthub.io/packages/helm/wordpress-...\t6.1.1-3.0rc5 \tmaster             \tLightweight Wordpress installation with additio...\n",
      "https://artifacthub.io/packages/helm/wordpress-...\t1.0.0        \t1.1                \tThis is a package for configuring wordpress and...\n",
      "https://artifacthub.io/packages/helm/securecode...\t5.0.0-rc.2   \t4.0                \tInsecure & Outdated Wordpress Instance: Never e...\n",
      "https://artifacthub.io/packages/helm/wordpressm...\t1.0.0        \t                   \tThis is the Helm Chart that creates the Wordpre...\n",
      "https://artifacthub.io/packages/helm/bitpoke/wo...\t0.12.4       \tv0.12.4            \tBitpoke WordPress Operator Helm Chart             \n",
      "https://artifacthub.io/packages/helm/bitpoke/wo...\t0.12.4       \tv0.12.4            \tHelm chart for deploying a WordPress site on Bi...\n",
      "https://artifacthub.io/packages/helm/kube-wordp...\t0.1.0        \t0.0.1-alpha        \tHelm Chart for Wordpress installation on MySQL ...\n",
      "https://artifacthub.io/packages/helm/riotkit-or...\t2.1.0-alpha4 \tv2.1-alpha4        \tLightweight Wordpress installation with additio...\n",
      "https://artifacthub.io/packages/helm/phntom/bin...\t0.0.4        \t0.0.3              \twww.binaryvision.co.il static wordpress           \n",
      "https://artifacthub.io/packages/helm/gh-shessel...\t2.1.12       \t6.1.1              \tWeb publishing platform for building blogs and ...\n",
      "https://artifacthub.io/packages/helm/sikalabs/w...\t0.1.2        \t                   \t                                                  \n",
      "https://artifacthub.io/packages/helm/gh-shessel...\t6.3.1        \t6.3.1              \tWeb publishing platform for building blogs and ...\n",
      "https://artifacthub.io/packages/helm/wordpressh...\t0.1.0        \t1.16.0             \tA Helm chart for Kubernetes                       \n",
      "https://artifacthub.io/packages/helm/wordpress-...\t0.1.0        \t1.1                \tthis is chart create the wordpress with suitabl...\n",
      "https://artifacthub.io/packages/helm/wordpress-...\t0.0.1        \t                   \tHelm Chart for wordpress-gatsby                   \n",
      "https://artifacthub.io/packages/helm/bitpoke/bi...\t1.8.19       \t1.8.19             \tThe Bitpoke App for WordPress provides a versat...\n",
      "https://artifacthub.io/packages/helm/sonu-wordp...\t1.0.0        \t2                  \tThis is my custom chart to deploy wordpress and...\n",
      "https://artifacthub.io/packages/helm/wordpress/...\t0.2.0        \t1.1.0              \tWordpress for Kubernetes                          \n",
      "https://artifacthub.io/packages/helm/uvaise-wor...\t0.2.0        \t1.1.0              \tWordpress for Kubernetes                          \n",
      "https://artifacthub.io/packages/helm/wordpress-...\t1.0.0        \t2                  \tThis is my custom chart to deploy wordpress and...\n",
      "https://artifacthub.io/packages/helm/bitpoke/stack\t0.12.4       \tv0.12.4            \tYour Open-Source, Cloud-Native WordPress Infras...\n",
      "https://artifacthub.io/packages/helm/securecode...\t5.0.0-rc.2   \tv3.8.28            \tA Helm chart for the WordPress security scanner...\n",
      "https://artifacthub.io/packages/helm/wordpresss...\t1.1.0        \t5.8.2              \tWeb publishing platform for building blogs and ...\n",
      "https://artifacthub.io/packages/helm/viveksahu2...\t1.0.0        \t2                  \tThis is my custom chart to deploy wordpress and...\n",
      "https://artifacthub.io/packages/helm/six/wordress \t0.2.0        \t1.1.0              \tWordpress for Kubernetes                          \n",
      "https://artifacthub.io/packages/helm/jinchi-cha...\t0.2.0        \t1.1.0              \tWordpress for Kubernetes                          \n",
      "https://artifacthub.io/packages/helm/projet-dev...\t0.1.0        \t1.16.0             \tA Helm chart for wordpress deployed on Azure Ku...\n",
      "https://artifacthub.io/packages/helm/wordpressm...\t0.1.0        \t1.1                \t                                                  \n"
     ]
    }
   ],
   "source": [
    "!helm search hub wordpress"
   ]
  },
  {
   "cell_type": "code",
   "execution_count": 4,
   "id": "69a02e8d",
   "metadata": {},
   "outputs": [
    {
     "name": "stdout",
     "output_type": "stream",
     "text": [
      "NAME       \tURL                                      \n",
      "firefly-iii\thttps://firefly-iii.github.io/kubernetes/\n"
     ]
    }
   ],
   "source": [
    "!helm repo list"
   ]
  },
  {
   "cell_type": "code",
   "execution_count": 5,
   "id": "85ff85db",
   "metadata": {},
   "outputs": [
    {
     "name": "stdout",
     "output_type": "stream",
     "text": [
      "Error: 1 error occurred:\n",
      "\t* timed out waiting for the condition\n",
      "\n",
      "\n"
     ]
    }
   ],
   "source": [
    "!helm uninstall firefly-iii"
   ]
  },
  {
   "cell_type": "markdown",
   "id": "7445d75f",
   "metadata": {},
   "source": [
    "Refer https://firefly-iii.github.io/kubernetes/\n",
    "helm repo add firefly-iii https://firefly-iii.github.io/kubernetes/\n",
    "helm repo update\n",
    "helm install firefly-iii firefly-iii/firefly-iii-stack --set firefly-db.storage.accessModes=ReadWriteOnce"
   ]
  },
  {
   "cell_type": "markdown",
   "id": "b8bf5edd",
   "metadata": {},
   "source": [
    "Add a bitnami helm chart repository in the controlplane node.\n",
    "name - bitnami\n",
    "chart repo name - https://charts.bitnami.com/bitnami\n",
    "\n",
    "controlplane ~ ➜  helm repo add  bitnami https://charts.bitnami.com/bitnami\n",
    "\"bitnami\" has been added to your repositories"
   ]
  },
  {
   "cell_type": "markdown",
   "id": "b7dbc878",
   "metadata": {},
   "source": [
    "Which command is used to search for the joomla package from the added repository?\n",
    "\n",
    "controlplane ~ ➜  helm search repo joomla\n",
    "NAME            CHART VERSION   APP VERSION     DESCRIPTION                                       \n",
    "bitnami/joomla  20.0.4          5.1.2           DEPRECATED Joomla! is an award winning open sou...\n"
   ]
  },
  {
   "cell_type": "markdown",
   "id": "75c8a7a3",
   "metadata": {},
   "source": [
    "controlplane ~ ➜  helm repo list\n",
    "NAME            URL                                                 \n",
    "bitnami         https://charts.bitnami.com/bitnami                  \n",
    "puppet          https://puppetlabs.github.io/puppetserver-helm-chart\n",
    "hashicorp       https://helm.releases.hashicorp.com                 \n"
   ]
  },
  {
   "cell_type": "markdown",
   "id": "2b433d03",
   "metadata": {},
   "source": [
    "\n",
    "Install drupal helm chart from the bitnami repository.\n",
    "\n",
    "\n",
    "Release name should be bravo.\n",
    "\n",
    "Chart name should be bitnami/drupal.\n",
    "\n",
    "Note: Ignore the state of the application now.\n",
    "\n",
    "controlplane ~ ➜  helm install bravo bitnami/drupal\n",
    "Pulled: us-central1-docker.pkg.dev/kk-lab-prod/helm-charts/bitnami/drupal:21.1.3\n",
    "Digest: sha256:1986543cf00e9b7ec2d03c97e5d11588efd6419767036b3555afd8b9c3203f79\n",
    "NAME: bravo\n",
    "LAST DEPLOYED: Wed Jul 30 13:06:31 2025\n",
    "NAMESPACE: default\n",
    "STATUS: deployed\n",
    "REVISION: 1\n",
    "TEST SUITE: None\n",
    "NOTES:\n",
    "CHART NAME: drupal\n",
    "CHART VERSION: 21.1.3\n",
    "APP VERSION: 11.1.2\n",
    "\n",
    "Did you know there are enterprise versions of the Bitnami catalog? For enhanced secure software supply chain features, unlimited pulls from Docker, LTS support, or application customization, see Bitnami Premium or Tanzu Application Catalog. See https://www.arrow.com/globalecs/na/vendors/bitnami for more information.** Please be patient while the chart is being deployed **\n",
    "\n",
    "1. Get the Drupal URL:\n",
    "\n",
    "  NOTE: It may take a few minutes for the LoadBalancer IP to be available.\n",
    "        Watch the status with: 'kubectl get svc --namespace default -w bravo-drupal'\n",
    "\n",
    "  export SERVICE_IP=$(kubectl get svc --namespace default bravo-drupal --template \"{{ range (index .status.loadBalancer.ingress 0) }}{{ . }}{{ end }}\")\n",
    "  echo \"Drupal URL: http://$SERVICE_IP/\"\n",
    "\n",
    "2. Get your Drupal login credentials by running:\n",
    "\n",
    "  echo Username: user\n",
    "  echo Password: $(kubectl get secret --namespace default bravo-drupal -o jsonpath=\"{.data.drupal-password}\" | base64 -d)\n",
    "\n",
    "WARNING: There are \"resources\" sections in the chart not set. Using \"resourcesPreset\" is not recommended for production. For production installations, please set the following values according to your workload needs:\n",
    "  - resources\n",
    "+info https://kubernetes.io/docs/concepts/configuration/manage-resources-containers/\n",
    "\n",
    "controlplane ~ ➜  "
   ]
  },
  {
   "cell_type": "markdown",
   "id": "b7dcc36d",
   "metadata": {},
   "source": [
    "Uninstall the drupal helm package which we installed earlier.\n",
    "\n",
    "controlplane ~ ➜  helm uninstall bravo\n",
    "release \"bravo\" uninstalled\n"
   ]
  },
  {
   "cell_type": "markdown",
   "id": "f7ceddd0",
   "metadata": {},
   "source": [
    "Download the bitnami apache package under the /root directory.\n",
    "\n",
    "Note: Do not install the package. Just download it.\n",
    "\n",
    "controlplane ~ ➜  helm pull --untar  bitnami/apache\n",
    "Pulled: us-central1-docker.pkg.dev/kk-lab-prod/helm-charts/bitnami/apache:11.3.2\n",
    "Digest: sha256:1bd45c97bb7a0000534e3abc5797143661e34ea7165aa33068853c567e6df9f2"
   ]
  },
  {
   "cell_type": "code",
   "execution_count": 6,
   "id": "2dbb2451",
   "metadata": {},
   "outputs": [
    {
     "name": "stdout",
     "output_type": "stream",
     "text": [
      "Error: repo bitnami not found\n"
     ]
    }
   ],
   "source": [
    "!helm pull --untar  bitnami/apache"
   ]
  },
  {
   "cell_type": "markdown",
   "id": "9b0a421d",
   "metadata": {},
   "source": [
    "Install the apache from the downloaded helm package.\n",
    "\n",
    "Release name: mywebapp\n",
    "\n",
    "\n",
    "Note: Do make changes accordingly so that 2 replicas of the webserver are running and the http is exposed on nodeport 30080.\n",
    "\n",
    "Make sure that the pods are in the running state.\n",
    "\n",
    "\n",
    "\n",
    "controlplane ~/apache is 📦 v11.3.2 via ⎈ v3.18.4 ✖ helm install mywebapp .\n",
    "NAME: mywebapp\n",
    "LAST DEPLOYED: Wed Jul 30 13:17:40 2025\n",
    "NAMESPACE: default\n",
    "STATUS: deployed\n",
    "REVISION: 1\n",
    "TEST SUITE: None\n",
    "NOTES:\n",
    "CHART NAME: apache\n",
    "CHART VERSION: 11.3.2\n",
    "APP VERSION: 2.4.63\n",
    "\n",
    "Did you know there are enterprise versions of the Bitnami catalog? For enhanced secure software supply chain features, unlimited pulls from Docker, LTS support, or application customization, see Bitnami Premium or Tanzu Application Catalog. See https://www.arrow.com/globalecs/na/vendors/bitnami for more information.\n",
    "\n",
    "** Please be patient while the chart is being deployed **\n",
    "\n",
    "1. Get the Apache URL by running:\n",
    "\n",
    "** Please ensure an external IP is associated to the mywebapp-apache service before proceeding **\n",
    "** Watch the status using: kubectl get svc --namespace default -w mywebapp-apache **\n",
    "\n",
    "  export SERVICE_IP=$(kubectl get svc --namespace default mywebapp-apache --template \"{{ range (index .status.loadBalancer.ingress 0) }}{{ . }}{{ end }}\")\n",
    "  echo URL            : http://$SERVICE_IP/\n",
    "\n",
    "\n",
    "WARNING: You did not provide a custom web application. Apache will be deployed with a default page. Check the README section \"Deploying your custom web application\" in https://github.com/bitnami/charts/blob/main/bitnami/apache/README.md#deploying-a-custom-web-application.\n",
    "\n",
    "\n",
    "\n",
    "WARNING: There are \"resources\" sections in the chart not set. Using \"resourcesPreset\" is not recommended for production. For production installations, please set the following values according to your workload needs:\n",
    "  - resources\n",
    "+info https://kubernetes.io/docs/concepts/configuration/manage-resources-containers/\n",
    "\n",
    "controlplane ~/apache is 📦 v11.3.2 via ⎈ v3.18.4 ➜  "
   ]
  }
 ],
 "metadata": {
  "kernelspec": {
   "display_name": "3.12.11",
   "language": "python",
   "name": "python3"
  },
  "language_info": {
   "codemirror_mode": {
    "name": "ipython",
    "version": 3
   },
   "file_extension": ".py",
   "mimetype": "text/x-python",
   "name": "python",
   "nbconvert_exporter": "python",
   "pygments_lexer": "ipython3",
   "version": "3.12.11"
  }
 },
 "nbformat": 4,
 "nbformat_minor": 5
}
